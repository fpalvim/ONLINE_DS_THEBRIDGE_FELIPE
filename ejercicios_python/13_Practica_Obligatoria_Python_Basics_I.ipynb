{
 "cells": [
  {
   "cell_type": "markdown",
   "metadata": {
    "id": "BNCAebJANPxq"
   },
   "source": [
    "![TheBridge_logo_RGB_color.jpg](attachment:TheBridge_logo_RGB_color.jpg)"
   ]
  },
  {
   "cell_type": "markdown",
   "metadata": {
    "id": "A9eDZvZaNPxs"
   },
   "source": [
    "![imagen](./img/ejercicios.png)"
   ]
  },
  {
   "cell_type": "markdown",
   "metadata": {
    "id": "59zPhBxXNPxs"
   },
   "source": [
    "## PRACTICA OBLIGATORIA: PYTHON"
   ]
  },
  {
   "cell_type": "markdown",
   "metadata": {
    "id": "mv2kb1GMNPxs"
   },
   "source": [
    "* La práctica obligatoria de esta unidad consiste en dos ejercicios de programación libre a completar.   \n",
    "* Recuerda que debes subirla a tu repositorio personal antes de la sesión en vivo para que puntúe adecuadamente.  \n",
    "* Recuerda también que no es necesario que esté perfecta, sólo es necesario que se vea el esfuerzo.\n",
    "* Esta práctica se resolverá en la sesión en vivo correspondiente y la solución se publicará en el repo del curso."
   ]
  },
  {
   "cell_type": "markdown",
   "metadata": {
    "id": "Kl9JzST2NPxt"
   },
   "source": [
    "![ejercicio.png](./img/ejercicio.png)\n",
    "## PARTE I\n",
    "\n",
    "En este ejercicio debes simular un chatbot al que le haremos pedidos de pizzas.\n",
    "\n",
    "1. El chatbot tiene que saludar con un: \"Buenas tardes, bienvenido al servicio de pedido online, el precio de nuestra pizzas es de 8,95 para la familiar o de 9,90 para la mediana ¿Cuántas pizzas  familiares desea?\"\n",
    "2. El ususario tiene que introducir un número de pizzas en una variable llamada 'pizz_familiar'\n",
    "3. El chatbot debe responder: \"Estupendo, ¿cuántas pizzas medianas desea?\" y guardar el número de pizzas medianas en otra variable 'pizz_mediana'\n",
    "4. Además debe responder del chatbot: \"Estupendo, se están preparando 'pizz' pizzas familiares y 'pizz_mediana' pizzas medianas. Digame su dirección\"\n",
    "5. El ususario tiene que introducir una direccion en formato String en otra variable llamada 'direcc'\n",
    "6. El programa debe calcular el monto total\n",
    "7. Respuesta final del chatbot: \"Le mandaremos las '(número total de pizzas)' pizzas a la dirección 'direcc'. Serán <precio total a pagar en euros>. Muchas gracias por su pedido.\"\n",
    "         \n"
   ]
  },
  {
   "cell_type": "code",
   "execution_count": 1,
   "metadata": {
    "id": "qkKibyt-NPxt"
   },
   "outputs": [
    {
     "name": "stdout",
     "output_type": "stream",
     "text": [
      "Buenas tardes, bienvenido al servicio de pedido online, el precio de nuestra pizzas es de 8,95 para la familiar o de 9,90 para la mediana ¿Cuántas pizzas familiares desea?\n",
      "Estupendo, ¿cuántas pizzas medianas desea?\n",
      "Estupendo, se están preparando 1 pizzas familiares y 2 pizzas medianas. Digame su dirección\n",
      "Le mandaremos las 3 pizzas a la direccion Calle Beatriz Galindo,12. Serán 28.75€. Muchas gracias por su pedido.\n"
     ]
    }
   ],
   "source": [
    "def chatbot():\n",
    "\n",
    "    precio_pizz_familiar = 8.95\n",
    "    precio_pizz_mediana = 9.90\n",
    "    \n",
    "    print(\"Buenas tardes, bienvenido al servicio de pedido online, el precio de nuestra pizzas es de 8,95 para la familiar o de 9,90 para la mediana ¿Cuántas pizzas familiares desea?\")\n",
    "    pizz_familiar = int(input(\"Introduce aquí el número de pizzas familiares que deseas:\"))\n",
    "\n",
    "    print(\"Estupendo, ¿cuántas pizzas medianas desea?\") \n",
    "    pizz_mediana = int(input(\"Introduce aquí el numero de pizzas medianas que deseas:\"))\n",
    "\n",
    "    monto_total = pizz_familiar+pizz_mediana\n",
    "    precio_total_pizz_familiar = precio_pizz_familiar*pizz_familiar \n",
    "    precio_total_pizz_mediana = precio_pizz_mediana*pizz_mediana\n",
    "    precio_total_general = round(precio_total_pizz_familiar+precio_total_pizz_mediana, 2)\n",
    "    \n",
    "    print(f'Estupendo, se están preparando {pizz_familiar} pizzas familiares y {pizz_mediana} pizzas medianas. Digame su dirección')\n",
    "    direcc = input(\"Introduce aquí tu direccion:\")\n",
    "    print(f'Le mandaremos las {monto_total} pizzas a la direccion {direcc}. Serán {precio_total_general}€. Muchas gracias por su pedido.')\n",
    "\n",
    "chatbot()"
   ]
  },
  {
   "cell_type": "markdown",
   "metadata": {
    "id": "f0oqoGDGNPxt"
   },
   "source": [
    "![ejercicio.png](./img/ejercicio.png)\n",
    "## Parte II\n",
    "\n",
    "Crea un programa que realice las siguientes acciones:\n",
    "\n",
    "1. Solicite al usuario que introduzca 3 números enteros separados por comas (por ejemplo: 1,2,3).\n",
    "2. Convierta esa entrada en una lista de números enteros.\n",
    "3. Utilizando funciones built-in, determine el número máximo, el número mínimo y la suma total de los números introducidos.\n",
    "4. Determine la verdad o falsedad de la siguiente afirmación: \"El número máximo menos el número mínimo es igual a la suma total dividida por 5\".\n",
    "5. Muestre los resultados utilizando print."
   ]
  },
  {
   "cell_type": "code",
   "execution_count": 10,
   "metadata": {
    "id": "rAlpWiQ9NPxt"
   },
   "outputs": [
    {
     "name": "stdout",
     "output_type": "stream",
     "text": [
      "[5, 10, 15]\n",
      "5\n",
      "15\n",
      "30\n",
      "False\n"
     ]
    }
   ],
   "source": [
    "my_nums = input(\"Introduce aquí tres numeros enteros separados por comas\")\n",
    "my_arr = my_nums.split(\",\")\n",
    "int_arr = [int(num) for num in my_arr]\n",
    "print(int_arr)\n",
    "\n",
    "min_num = min(int_arr)\n",
    "print(min_num)\n",
    "\n",
    "max_num = max(int_arr)\n",
    "print(max_num)\n",
    "\n",
    "sum_nums = (sum(int_arr))\n",
    "print(sum_nums)\n",
    "\n",
    "bool_test = max_num - min_num == sum_nums / 5\n",
    "print(bool_test)\n"
   ]
  }
 ],
 "metadata": {
  "colab": {
   "provenance": []
  },
  "kernelspec": {
   "display_name": "Python 3",
   "language": "python",
   "name": "python3"
  },
  "language_info": {
   "codemirror_mode": {
    "name": "ipython",
    "version": 3
   },
   "file_extension": ".py",
   "mimetype": "text/x-python",
   "name": "python",
   "nbconvert_exporter": "python",
   "pygments_lexer": "ipython3",
   "version": "3.11.9"
  }
 },
 "nbformat": 4,
 "nbformat_minor": 4
}
